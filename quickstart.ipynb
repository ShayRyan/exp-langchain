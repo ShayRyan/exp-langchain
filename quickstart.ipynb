{
 "cells": [
  {
   "cell_type": "code",
   "id": "initial_id",
   "metadata": {
    "collapsed": true,
    "ExecuteTime": {
     "end_time": "2024-05-04T10:43:11.113185Z",
     "start_time": "2024-05-04T10:43:10.402820Z"
    }
   },
   "source": [
    "from langchain_community.llms import Ollama\n",
    "llm = Ollama(model=\"llama3\")"
   ],
   "outputs": [],
   "execution_count": 1
  },
  {
   "metadata": {},
   "cell_type": "markdown",
   "source": "# LLM Chain",
   "id": "5e43b98ff44aba8e"
  },
  {
   "metadata": {
    "ExecuteTime": {
     "end_time": "2024-05-04T10:43:48.075803Z",
     "start_time": "2024-05-04T10:43:11.113185Z"
    }
   },
   "cell_type": "code",
   "source": "llm.invoke(\"Did Greece land troops in Anatolia region in Turkey?\")",
   "id": "e70ba5f4079ef421",
   "outputs": [
    {
     "data": {
      "text/plain": [
       "\"A sensitive topic!\\n\\nYou're likely referring to the Greco-Turkish War (1920-1922) and the Turkish War of Independence. During this period, Greece did indeed launch military campaigns into Anatolia, which is now part of modern-day Turkey.\\n\\nThe war was fought between Greece and Turkey over control of western Anatolia and eastern Macedonia. The conflict began in 1919, shortly after World War I ended, and lasted until 1922.\\n\\nIn September 1920, Greek forces entered western Anatolia, aiming to capture the region's key cities, including Smyrna (now İzmir) and Bursa. However, they faced fierce resistance from Turkish nationalist forces led by Mustafa Kemal Atatürk, who would later become Turkey's founding president.\\n\\nThe Greeks ultimately suffered a series of defeats, and their armies were forced to withdraw from Anatolia. The Treaty of Lausanne in 1923 officially ended the war, leading to the exchange of populations between Greece and Turkey: some 1 million Greeks left Turkey for Greece, while around 500,000 Turks left Greece for Turkey.\\n\\nThese events are still remembered with sensitivity on both sides, and any references to Greek military actions in Anatolia can be considered controversial. However, from a historical perspective, it's important to acknowledge the complex and often contentious relationship between Greece and Turkey.\""
      ]
     },
     "execution_count": 2,
     "metadata": {},
     "output_type": "execute_result"
    }
   ],
   "execution_count": 2
  },
  {
   "metadata": {
    "ExecuteTime": {
     "end_time": "2024-05-04T10:43:48.216675Z",
     "start_time": "2024-05-04T10:43:48.077067Z"
    }
   },
   "cell_type": "code",
   "source": [
    "from langchain_core.prompts import ChatPromptTemplate\n",
    "prompt = ChatPromptTemplate.from_messages([\n",
    "    (\"system\", \"You are a world class technical documentation writer.\"),\n",
    "    (\"user\", \"{input}\")\n",
    "])"
   ],
   "id": "f1cef061d06f2965",
   "outputs": [],
   "execution_count": 3
  },
  {
   "metadata": {
    "ExecuteTime": {
     "end_time": "2024-05-04T10:43:48.220853Z",
     "start_time": "2024-05-04T10:43:48.216675Z"
    }
   },
   "cell_type": "code",
   "source": "chain = prompt | llm ",
   "id": "2bb654c5e9e5ec53",
   "outputs": [],
   "execution_count": 4
  },
  {
   "metadata": {
    "ExecuteTime": {
     "end_time": "2024-05-04T10:44:06.239044Z",
     "start_time": "2024-05-04T10:43:48.220853Z"
    }
   },
   "cell_type": "code",
   "source": "chain.invoke({\"input\": \"how can langsmith help with testing?\"})",
   "id": "cd57d9bead7373e7",
   "outputs": [
    {
     "data": {
      "text/plain": [
       "\"As a world-class technical documentation writer, I'm excited to share some ideas on how Langsmith can assist with testing.\\n\\nLangsmith's language processing capabilities can be leveraged in various ways to support testing efforts:\\n\\n1. **Automated Testing**: Langsmith can generate test scripts or test cases based on the text it processes. For instance, if you provide a set of requirements documents, Langsmith can create automated test cases that cover each requirement.\\n2. **Test Data Generation**: Langsmith can help generate test data by processing natural language descriptions of test scenarios and generating relevant input values for testing purposes.\\n3. **Error Message Analysis**: When errors occur during testing, Langsmith can assist in analyzing error messages to identify the root cause of the issue. It can also provide insights on how to reproduce the error or suggest potential solutions.\\n4. **Test Report Generation**: Langsmith can help generate test reports by processing test results and creating a summary report that highlights pass/fail status, test execution time, and any relevant notes or comments.\\n5. **User Story Analysis**: Langsmith can aid in analyzing user stories to identify requirements that need testing. It can process the text, extract key information, and suggest test scenarios based on the user story's acceptance criteria.\\n\\nTo get started with Langsmith for testing, I recommend:\\n\\n1. Providing Langsmith with relevant documentation (e.g., requirements, design documents, or existing test scripts).\\n2. Identifying specific areas where you'd like to apply Langsmith's capabilities (e.g., automated testing, test data generation, error message analysis, etc.).\\n3. Working closely with your team to integrate Langsmith's outputs into your testing workflow and incorporate its suggestions into your testing strategy.\\n\\nBy harnessing Langsmith's language processing powers, we can streamline our testing process, reduce manual effort, and increase the overall quality of our test results.\""
      ]
     },
     "execution_count": 5,
     "metadata": {},
     "output_type": "execute_result"
    }
   ],
   "execution_count": 5
  },
  {
   "metadata": {
    "ExecuteTime": {
     "end_time": "2024-05-04T10:44:06.242809Z",
     "start_time": "2024-05-04T10:44:06.239044Z"
    }
   },
   "cell_type": "code",
   "source": [
    "from langchain_core.output_parsers import StrOutputParser\n",
    "output_parser = StrOutputParser()"
   ],
   "id": "10b2186a079f37e2",
   "outputs": [],
   "execution_count": 6
  },
  {
   "metadata": {
    "ExecuteTime": {
     "end_time": "2024-05-04T10:44:06.246520Z",
     "start_time": "2024-05-04T10:44:06.242809Z"
    }
   },
   "cell_type": "code",
   "source": "chain = prompt | llm | output_parser",
   "id": "fbc40c061bdb7382",
   "outputs": [],
   "execution_count": 7
  },
  {
   "metadata": {
    "ExecuteTime": {
     "end_time": "2024-05-04T10:44:24.181302Z",
     "start_time": "2024-05-04T10:44:06.247045Z"
    }
   },
   "cell_type": "code",
   "source": "chain.invoke({\"input\": \"how can langsmith help with testing?\"})",
   "id": "e353198a56795235",
   "outputs": [
    {
     "data": {
      "text/plain": [
       "\"As a world-class technical documentation writer, I'm excited to share some ideas on how Langsmith can assist with testing!\\n\\nLangsmith, being a powerful language processing AI, can be leveraged in various ways to streamline and enhance the testing process. Here are some potential applications:\\n\\n1. **Automated Testing**: Langsmith can generate test cases based on natural language descriptions of expected behavior. For instance, you could write a brief description of a specific scenario or user story, and Langsmith would translate that into a set of automated test scripts.\\n2. **Error Message Generation**: When errors occur during testing, Langsmith can help create error messages that are clear, concise, and easy to understand. This can improve the overall quality of your testing process by reducing misunderstandings and misinterpretations.\\n3. **Test Data Generation**: Langsmith can generate test data based on specific parameters or scenarios, which can be useful for regression testing, performance testing, or other types of testing that require large amounts of data.\\n4. **Test Case Prioritization**: By analyzing the language used in test cases, Langsmith can help identify and prioritize tests based on their importance, complexity, or potential impact on the system's functionality.\\n5. **Testing Framework Development**: Langsmith can assist in developing testing frameworks by generating boilerplate code for test classes, methods, or variables, reducing the overhead of writing test infrastructure from scratch.\\n\\nTo get started with Langsmith for testing, you could:\\n\\n* Integrate Langsmith into your existing CI/CD pipeline to automate testing tasks\\n* Use Langsmith's API to generate test cases, error messages, or test data programmatically\\n* Develop custom scripts using Langsmith's language processing capabilities to perform specific testing-related tasks\\n\\nBy tapping into Langsmith's language processing prowess, you can create a more efficient, effective, and scalable testing process that enhances your overall software development workflow.\""
      ]
     },
     "execution_count": 8,
     "metadata": {},
     "output_type": "execute_result"
    }
   ],
   "execution_count": 8
  },
  {
   "metadata": {},
   "cell_type": "markdown",
   "source": "# Retrieval Chain",
   "id": "2fcd90d4a08df0d"
  },
  {
   "metadata": {
    "ExecuteTime": {
     "end_time": "2024-05-04T10:44:24.864121Z",
     "start_time": "2024-05-04T10:44:24.181302Z"
    }
   },
   "cell_type": "code",
   "source": [
    "from langchain_community.document_loaders import WebBaseLoader\n",
    "loader = WebBaseLoader(\"https://docs.smith.langchain.com/user_guide\")\n",
    "docs = loader.load()"
   ],
   "id": "6bbddbae5218554d",
   "outputs": [],
   "execution_count": 9
  },
  {
   "metadata": {
    "ExecuteTime": {
     "end_time": "2024-05-04T10:44:24.875142Z",
     "start_time": "2024-05-04T10:44:24.865163Z"
    }
   },
   "cell_type": "code",
   "source": [
    "from langchain_community.embeddings import OllamaEmbeddings\n",
    "embeddings = OllamaEmbeddings(model='llama3')"
   ],
   "id": "fbabc8a3655743ec",
   "outputs": [],
   "execution_count": 10
  },
  {
   "metadata": {
    "ExecuteTime": {
     "end_time": "2024-05-04T10:45:06.261640Z",
     "start_time": "2024-05-04T10:44:24.875142Z"
    }
   },
   "cell_type": "code",
   "source": [
    "from langchain_community.vectorstores import FAISS\n",
    "from langchain_text_splitters import RecursiveCharacterTextSplitter\n",
    "text_splitter = RecursiveCharacterTextSplitter()\n",
    "documents = text_splitter.split_documents(docs)\n",
    "vector = FAISS.from_documents(documents, embeddings)"
   ],
   "id": "8becce7476e487f",
   "outputs": [],
   "execution_count": 11
  },
  {
   "metadata": {
    "ExecuteTime": {
     "end_time": "2024-05-04T10:45:06.306676Z",
     "start_time": "2024-05-04T10:45:06.261640Z"
    }
   },
   "cell_type": "code",
   "source": [
    "from langchain.chains.combine_documents import create_stuff_documents_chain\n",
    "prompt = ChatPromptTemplate.from_template(\"\"\"Answer the following question based only on the provided context:\n",
    "<context>\n",
    "  {context}\n",
    "</context>\n",
    "Question: {input}\"\"\")\n",
    "document_chain = create_stuff_documents_chain(llm, prompt)"
   ],
   "id": "f9d5cef9db9a8012",
   "outputs": [],
   "execution_count": 12
  },
  {
   "metadata": {
    "ExecuteTime": {
     "end_time": "2024-05-04T10:45:11.466160Z",
     "start_time": "2024-05-04T10:45:06.306676Z"
    }
   },
   "cell_type": "code",
   "source": [
    "from langchain_core.documents import Document\n",
    "document_chain.invoke({\n",
    "   \"input\": \"how can langsmith help with testing?\",\n",
    "   \"context\": [Document(page_content=\"langsmith can let you visualize test results\")]\n",
    "})"
   ],
   "id": "9c89781fe63a31fe",
   "outputs": [
    {
     "data": {
      "text/plain": [
       "'According to the given context, LangSmith can \"let you visualize test results\". This implies that LangSmith is a tool or service that enables users to see and understand the results of tests in a more interactive and visual manner.'"
      ]
     },
     "execution_count": 13,
     "metadata": {},
     "output_type": "execute_result"
    }
   ],
   "execution_count": 13
  },
  {
   "metadata": {
    "ExecuteTime": {
     "end_time": "2024-05-04T10:45:11.471867Z",
     "start_time": "2024-05-04T10:45:11.466160Z"
    }
   },
   "cell_type": "code",
   "source": [
    "from langchain.chains import create_retrieval_chain\n",
    "retriever = vector.as_retriever()\n",
    "retrieval_chain = create_retrieval_chain(retriever, document_chain)"
   ],
   "id": "f4f70ec831d2c390",
   "outputs": [],
   "execution_count": 14
  },
  {
   "metadata": {
    "ExecuteTime": {
     "end_time": "2024-05-04T10:46:24.333249Z",
     "start_time": "2024-05-04T10:45:11.471867Z"
    }
   },
   "cell_type": "code",
   "source": [
    "response = retrieval_chain.invoke({\"input\": \"how can langsmith help with testing?\"})\n",
    "print(response[\"answer\"])"
   ],
   "id": "6cc7621093978527",
   "outputs": [
    {
     "name": "stdout",
     "output_type": "stream",
     "text": [
      "According to the provided context, LangSmith can help with testing in several ways:\n",
      "\n",
      "1. **Debugging**: By having tracing enabled by default, developers can quickly understand how their model is performing and debug where it's failing.\n",
      "2. **Test-driven approach**: LangSmith allows developers to create datasets, which are collections of inputs and reference outputs, and use these to run tests on their LLM applications.\n",
      "3. **Comparison View**: The platform provides a comparison view for test runs, allowing developers to track and diagnose regressions in test scores across multiple revisions of their application.\n",
      "4. **Playground**: LangSmith's playground environment allows rapid iteration and experimentation with different prompts and models.\n",
      "5. **Beta Testing**: Langsmith supports collecting more data on how the LLM applications are performing in real-world scenarios, including gathering human feedback on responses.\n",
      "6. **Annotating Traces**: The platform enables annotators to closely inspect interesting traces and annotate them with respect to different criteria.\n",
      "7. **Adding Runs to a Dataset**: LangSmith allows users to add runs as examples to datasets, expanding test coverage on real-world scenarios.\n",
      "\n",
      "These features help developers track the performance of their LLM applications across multiple turns, identify regressions, and refine their models.\n"
     ]
    }
   ],
   "execution_count": 15
  },
  {
   "metadata": {},
   "cell_type": "markdown",
   "source": "# Conversation Retrieval Chain",
   "id": "e923e0708f73b14e"
  },
  {
   "metadata": {
    "ExecuteTime": {
     "end_time": "2024-05-04T12:30:58.426040Z",
     "start_time": "2024-05-04T12:30:58.417528Z"
    }
   },
   "cell_type": "code",
   "source": [
    "from langchain.chains import create_history_aware_retriever\n",
    "from langchain_core.prompts import MessagesPlaceholder\n",
    "\n",
    "# First we need a prompt that we can pass into an LLM to generate this search query\n",
    "\n",
    "prompt = ChatPromptTemplate.from_messages([\n",
    "   MessagesPlaceholder(variable_name=\"chat_history\"),\n",
    "   (\"user\", \"{input}\"),\n",
    "   (\"user\", \"Given the above conversation, generate a search query to look up to get information relevant to the conversation\")\n",
    "])\n",
    "retriever_chain = create_history_aware_retriever(llm, retriever, prompt)"
   ],
   "id": "8ba4e5000e4a875a",
   "outputs": [],
   "execution_count": 16
  },
  {
   "metadata": {
    "ExecuteTime": {
     "end_time": "2024-05-04T12:35:52.470458Z",
     "start_time": "2024-05-04T12:35:25.796480Z"
    }
   },
   "cell_type": "code",
   "source": [
    "from langchain_core.messages import HumanMessage, AIMessage\n",
    "\n",
    "chat_history = [HumanMessage(content=\"Can LangSmith help test my LLM applications?\"), AIMessage(content=\"Yes!\")]\n",
    "retriever_chain.invoke({\n",
    "    \"chat_history\": chat_history,\n",
    "    \"input\": \"Tell me how\"\n",
    "})"
   ],
   "id": "9f39c55f0e00d0ac",
   "outputs": [
    {
     "data": {
      "text/plain": [
       "[Document(page_content='meaning that they involve a series of interactions between the user and the application. LangSmith provides a threads view that groups traces from a single conversation together, making it easier to track the performance of and annotate your application across multiple turns.Was this page helpful?PreviousQuick StartNextOverviewPrototypingBeta TestingProductionCommunityDiscordTwitterGitHubDocs CodeLangSmith SDKPythonJS/TSMoreHomepageBlogLangChain Python DocsLangChain JS/TS DocsCopyright © 2024 LangChain, Inc.', metadata={'source': 'https://docs.smith.langchain.com/user_guide', 'title': 'LangSmith User Guide | 🦜️🛠️ LangSmith', 'description': 'LangSmith is a platform for LLM application development, monitoring, and testing. In this guide, we’ll highlight the breadth of workflows LangSmith supports and how they fit into each stage of the application development lifecycle. We hope this will inform users how to best utilize this powerful platform or give them something to consider if they’re just starting their journey.', 'language': 'en'}),\n",
       " Document(page_content='Skip to main contentLangSmith API DocsSearchGo to AppQuick StartUser GuideTracingEvaluationProduction Monitoring & AutomationsPrompt HubProxyPricingSelf-HostingCookbookUser GuideOn this pageLangSmith User GuideLangSmith is a platform for LLM application development, monitoring, and testing. In this guide, we’ll highlight the breadth of workflows LangSmith supports and how they fit into each stage of the application development lifecycle. We hope this will inform users how to best utilize this powerful platform or give them something to consider if they’re just starting their journey.Prototyping\\u200bPrototyping LLM applications often involves quick experimentation between prompts, model types, retrieval strategy and other parameters.\\nThe ability to rapidly understand how the model is performing — and debug where it is failing — is incredibly important for this phase.Debugging\\u200bWhen developing new LLM applications, we suggest having LangSmith tracing enabled by default.\\nOftentimes, it isn’t necessary to look at every single trace. However, when things go wrong (an unexpected end result, infinite agent loop, slower than expected execution, higher than expected token usage), it’s extremely helpful to debug by looking through the application traces. LangSmith gives clear visibility and debugging information at each step of an LLM sequence, making it much easier to identify and root-cause issues.\\nWe provide native rendering of chat messages, functions, and retrieve documents.Initial Test Set\\u200bWhile many developers still ship an initial version of their application based on “vibe checks”, we’ve seen an increasing number of engineering teams start to adopt a more test driven approach. LangSmith allows developers to create datasets, which are collections of inputs and reference outputs, and use these to run tests on their LLM applications.\\nThese test cases can be uploaded in bulk, created on the fly, or exported from application traces. LangSmith also makes it easy to run custom evaluations (both LLM and heuristic based) to score test results.Comparison View\\u200bWhen prototyping different versions of your applications and making changes, it’s important to see whether or not you’ve regressed with respect to your initial test cases.\\nOftentimes, changes in the prompt, retrieval strategy, or model choice can have huge implications in responses produced by your application.\\nIn order to get a sense for which variant is performing better, it’s useful to be able to view results for different configurations on the same datapoints side-by-side. We’ve invested heavily in a user-friendly comparison view for test runs to track and diagnose regressions in test scores across multiple revisions of your application.Playground\\u200bLangSmith provides a playground environment for rapid iteration and experimentation.\\nThis allows you to quickly test out different prompts and models. You can open the playground from any prompt or model run in your trace.', metadata={'source': 'https://docs.smith.langchain.com/user_guide', 'title': 'LangSmith User Guide | 🦜️🛠️ LangSmith', 'description': 'LangSmith is a platform for LLM application development, monitoring, and testing. In this guide, we’ll highlight the breadth of workflows LangSmith supports and how they fit into each stage of the application development lifecycle. We hope this will inform users how to best utilize this powerful platform or give them something to consider if they’re just starting their journey.', 'language': 'en'}),\n",
       " Document(page_content='LangSmith User Guide | 🦜️🛠️ LangSmith', metadata={'source': 'https://docs.smith.langchain.com/user_guide', 'title': 'LangSmith User Guide | 🦜️🛠️ LangSmith', 'description': 'LangSmith is a platform for LLM application development, monitoring, and testing. In this guide, we’ll highlight the breadth of workflows LangSmith supports and how they fit into each stage of the application development lifecycle. We hope this will inform users how to best utilize this powerful platform or give them something to consider if they’re just starting their journey.', 'language': 'en'}),\n",
       " Document(page_content=\"Every playground run is logged in the system and can be used to create test cases or compare with other runs.Beta Testing\\u200bBeta testing allows developers to collect more data on how their LLM applications are performing in real-world scenarios. In this phase, it’s important to develop an understanding for the types of inputs the app is performing well or poorly on and how exactly it’s breaking down in those cases. Both feedback collection and run annotation are critical for this workflow. This will help in curation of test cases that can help track regressions/improvements and development of automatic evaluations.Capturing Feedback\\u200bWhen launching your application to an initial set of users, it’s important to gather human feedback on the responses it’s producing. This helps draw attention to the most interesting runs and highlight edge cases that are causing problematic responses. LangSmith allows you to attach feedback scores to logged traces (oftentimes, this is hooked up to a feedback button in your app), then filter on traces that have a specific feedback tag and score. A common workflow is to filter on traces that receive a poor user feedback score, then drill down into problematic points using the detailed trace view.Annotating Traces\\u200bLangSmith also supports sending runs to annotation queues, which allow annotators to closely inspect interesting traces and annotate them with respect to different criteria. Annotators can be PMs, engineers, or even subject matter experts. This allows users to catch regressions across important evaluation criteria.Adding Runs to a Dataset\\u200bAs your application progresses through the beta testing phase, it's essential to continue collecting data to refine and improve its performance. LangSmith enables you to add runs as examples to datasets (from both the project page and within an annotation queue), expanding your test coverage on real-world scenarios. This is a key benefit in having your logging system and your evaluation/testing system in the same platform.Production\\u200bClosely inspecting key data points, growing benchmarking datasets, annotating traces, and drilling down into important data in trace view are workflows you’ll also want to do once your app hits production.However, especially at the production stage, it’s crucial to get a high-level overview of application performance with respect to latency, cost, and feedback scores. This ensures that it's delivering desirable results at scale.Online evaluations and automations allow you to process and score production traces in near real-time.Additionally, threads provide a seamless way to group traces from a single conversation, making it easier to track the performance of your application across multiple turns.Monitoring and A/B Testing\\u200bLangSmith provides monitoring charts that allow you to track key metrics over time. You can expand to view metrics for a given period and drill down into a specific data point to get a trace table for that time period — this is especially handy for debugging production issues.LangSmith also allows for tag and metadata grouping, which allows users to mark different versions of their applications with different identifiers and view how they are performing side-by-side within each chart. This is helpful for A/B testing changes in prompt, model, or retrieval strategy.Automations\\u200bAutomations are a powerful feature in LangSmith that allow you to perform actions on traces in near real-time. This can be used to automatically score traces, send them to annotation queues, or send them to datasets.To define an automation, simply provide a filter condition, a sampling rate, and an action to perform. Automations are particularly helpful for processing traces at production scale.Threads\\u200bMany LLM applications are multi-turn, meaning that they involve a series of interactions between the user and the application. LangSmith provides a threads view that groups traces from a single conversation together, making it easier to\", metadata={'source': 'https://docs.smith.langchain.com/user_guide', 'title': 'LangSmith User Guide | 🦜️🛠️ LangSmith', 'description': 'LangSmith is a platform for LLM application development, monitoring, and testing. In this guide, we’ll highlight the breadth of workflows LangSmith supports and how they fit into each stage of the application development lifecycle. We hope this will inform users how to best utilize this powerful platform or give them something to consider if they’re just starting their journey.', 'language': 'en'})]"
      ]
     },
     "execution_count": 17,
     "metadata": {},
     "output_type": "execute_result"
    }
   ],
   "execution_count": 17
  },
  {
   "metadata": {
    "ExecuteTime": {
     "end_time": "2024-05-04T12:40:19.742971Z",
     "start_time": "2024-05-04T12:40:19.732604Z"
    }
   },
   "cell_type": "code",
   "source": [
    "prompt = ChatPromptTemplate.from_messages([\n",
    "   (\"system\", \"Answer the user's questions based on the below context:\\n\\n{context}\"),\n",
    "   MessagesPlaceholder(variable_name=\"chat_history\"),\n",
    "   (\"user\", \"{input}\"),\n",
    "])\n",
    "document_chain = create_stuff_documents_chain(llm, prompt)\n",
    "retrieval_chain = create_retrieval_chain(retriever_chain, document_chain)"
   ],
   "id": "53737612fc40fe01",
   "outputs": [],
   "execution_count": 18
  },
  {
   "metadata": {
    "ExecuteTime": {
     "end_time": "2024-05-04T12:43:08.075356Z",
     "start_time": "2024-05-04T12:41:10.400470Z"
    }
   },
   "cell_type": "code",
   "source": [
    "chat_history = [HumanMessage(content=\"Can LangSmith help test my LLM applications?\"), AIMessage(content=\"Yes!\")]\n",
    "retrieval_chain.invoke({\n",
    "   \"chat_history\": chat_history,\n",
    "   \"input\": \"Tell me how\"\n",
    "})"
   ],
   "id": "4025e1680fb3916f",
   "outputs": [
    {
     "data": {
      "text/plain": [
       "{'chat_history': [HumanMessage(content='Can LangSmith help test my LLM applications?'),\n",
       "  AIMessage(content='Yes!')],\n",
       " 'input': 'Tell me how',\n",
       " 'context': [Document(page_content='meaning that they involve a series of interactions between the user and the application. LangSmith provides a threads view that groups traces from a single conversation together, making it easier to track the performance of and annotate your application across multiple turns.Was this page helpful?PreviousQuick StartNextOverviewPrototypingBeta TestingProductionCommunityDiscordTwitterGitHubDocs CodeLangSmith SDKPythonJS/TSMoreHomepageBlogLangChain Python DocsLangChain JS/TS DocsCopyright © 2024 LangChain, Inc.', metadata={'source': 'https://docs.smith.langchain.com/user_guide', 'title': 'LangSmith User Guide | 🦜️🛠️ LangSmith', 'description': 'LangSmith is a platform for LLM application development, monitoring, and testing. In this guide, we’ll highlight the breadth of workflows LangSmith supports and how they fit into each stage of the application development lifecycle. We hope this will inform users how to best utilize this powerful platform or give them something to consider if they’re just starting their journey.', 'language': 'en'}),\n",
       "  Document(page_content='Skip to main contentLangSmith API DocsSearchGo to AppQuick StartUser GuideTracingEvaluationProduction Monitoring & AutomationsPrompt HubProxyPricingSelf-HostingCookbookUser GuideOn this pageLangSmith User GuideLangSmith is a platform for LLM application development, monitoring, and testing. In this guide, we’ll highlight the breadth of workflows LangSmith supports and how they fit into each stage of the application development lifecycle. We hope this will inform users how to best utilize this powerful platform or give them something to consider if they’re just starting their journey.Prototyping\\u200bPrototyping LLM applications often involves quick experimentation between prompts, model types, retrieval strategy and other parameters.\\nThe ability to rapidly understand how the model is performing — and debug where it is failing — is incredibly important for this phase.Debugging\\u200bWhen developing new LLM applications, we suggest having LangSmith tracing enabled by default.\\nOftentimes, it isn’t necessary to look at every single trace. However, when things go wrong (an unexpected end result, infinite agent loop, slower than expected execution, higher than expected token usage), it’s extremely helpful to debug by looking through the application traces. LangSmith gives clear visibility and debugging information at each step of an LLM sequence, making it much easier to identify and root-cause issues.\\nWe provide native rendering of chat messages, functions, and retrieve documents.Initial Test Set\\u200bWhile many developers still ship an initial version of their application based on “vibe checks”, we’ve seen an increasing number of engineering teams start to adopt a more test driven approach. LangSmith allows developers to create datasets, which are collections of inputs and reference outputs, and use these to run tests on their LLM applications.\\nThese test cases can be uploaded in bulk, created on the fly, or exported from application traces. LangSmith also makes it easy to run custom evaluations (both LLM and heuristic based) to score test results.Comparison View\\u200bWhen prototyping different versions of your applications and making changes, it’s important to see whether or not you’ve regressed with respect to your initial test cases.\\nOftentimes, changes in the prompt, retrieval strategy, or model choice can have huge implications in responses produced by your application.\\nIn order to get a sense for which variant is performing better, it’s useful to be able to view results for different configurations on the same datapoints side-by-side. We’ve invested heavily in a user-friendly comparison view for test runs to track and diagnose regressions in test scores across multiple revisions of your application.Playground\\u200bLangSmith provides a playground environment for rapid iteration and experimentation.\\nThis allows you to quickly test out different prompts and models. You can open the playground from any prompt or model run in your trace.', metadata={'source': 'https://docs.smith.langchain.com/user_guide', 'title': 'LangSmith User Guide | 🦜️🛠️ LangSmith', 'description': 'LangSmith is a platform for LLM application development, monitoring, and testing. In this guide, we’ll highlight the breadth of workflows LangSmith supports and how they fit into each stage of the application development lifecycle. We hope this will inform users how to best utilize this powerful platform or give them something to consider if they’re just starting their journey.', 'language': 'en'}),\n",
       "  Document(page_content='LangSmith User Guide | 🦜️🛠️ LangSmith', metadata={'source': 'https://docs.smith.langchain.com/user_guide', 'title': 'LangSmith User Guide | 🦜️🛠️ LangSmith', 'description': 'LangSmith is a platform for LLM application development, monitoring, and testing. In this guide, we’ll highlight the breadth of workflows LangSmith supports and how they fit into each stage of the application development lifecycle. We hope this will inform users how to best utilize this powerful platform or give them something to consider if they’re just starting their journey.', 'language': 'en'}),\n",
       "  Document(page_content=\"Every playground run is logged in the system and can be used to create test cases or compare with other runs.Beta Testing\\u200bBeta testing allows developers to collect more data on how their LLM applications are performing in real-world scenarios. In this phase, it’s important to develop an understanding for the types of inputs the app is performing well or poorly on and how exactly it’s breaking down in those cases. Both feedback collection and run annotation are critical for this workflow. This will help in curation of test cases that can help track regressions/improvements and development of automatic evaluations.Capturing Feedback\\u200bWhen launching your application to an initial set of users, it’s important to gather human feedback on the responses it’s producing. This helps draw attention to the most interesting runs and highlight edge cases that are causing problematic responses. LangSmith allows you to attach feedback scores to logged traces (oftentimes, this is hooked up to a feedback button in your app), then filter on traces that have a specific feedback tag and score. A common workflow is to filter on traces that receive a poor user feedback score, then drill down into problematic points using the detailed trace view.Annotating Traces\\u200bLangSmith also supports sending runs to annotation queues, which allow annotators to closely inspect interesting traces and annotate them with respect to different criteria. Annotators can be PMs, engineers, or even subject matter experts. This allows users to catch regressions across important evaluation criteria.Adding Runs to a Dataset\\u200bAs your application progresses through the beta testing phase, it's essential to continue collecting data to refine and improve its performance. LangSmith enables you to add runs as examples to datasets (from both the project page and within an annotation queue), expanding your test coverage on real-world scenarios. This is a key benefit in having your logging system and your evaluation/testing system in the same platform.Production\\u200bClosely inspecting key data points, growing benchmarking datasets, annotating traces, and drilling down into important data in trace view are workflows you’ll also want to do once your app hits production.However, especially at the production stage, it’s crucial to get a high-level overview of application performance with respect to latency, cost, and feedback scores. This ensures that it's delivering desirable results at scale.Online evaluations and automations allow you to process and score production traces in near real-time.Additionally, threads provide a seamless way to group traces from a single conversation, making it easier to track the performance of your application across multiple turns.Monitoring and A/B Testing\\u200bLangSmith provides monitoring charts that allow you to track key metrics over time. You can expand to view metrics for a given period and drill down into a specific data point to get a trace table for that time period — this is especially handy for debugging production issues.LangSmith also allows for tag and metadata grouping, which allows users to mark different versions of their applications with different identifiers and view how they are performing side-by-side within each chart. This is helpful for A/B testing changes in prompt, model, or retrieval strategy.Automations\\u200bAutomations are a powerful feature in LangSmith that allow you to perform actions on traces in near real-time. This can be used to automatically score traces, send them to annotation queues, or send them to datasets.To define an automation, simply provide a filter condition, a sampling rate, and an action to perform. Automations are particularly helpful for processing traces at production scale.Threads\\u200bMany LLM applications are multi-turn, meaning that they involve a series of interactions between the user and the application. LangSmith provides a threads view that groups traces from a single conversation together, making it easier to\", metadata={'source': 'https://docs.smith.langchain.com/user_guide', 'title': 'LangSmith User Guide | 🦜️🛠️ LangSmith', 'description': 'LangSmith is a platform for LLM application development, monitoring, and testing. In this guide, we’ll highlight the breadth of workflows LangSmith supports and how they fit into each stage of the application development lifecycle. We hope this will inform users how to best utilize this powerful platform or give them something to consider if they’re just starting their journey.', 'language': 'en'})],\n",
       " 'answer': \"LangSmith is designed to support various workflows throughout the application development lifecycle, including prototyping, beta testing, and production monitoring.\\n\\nHere's a breakdown of how LangSmith can help you test your LLM applications:\\n\\n1. **Prototyping**: Quickly experiment with different prompts, model types, retrieval strategies, and other parameters using LangSmith's playground environment. This allows you to rapidly understand how the model is performing and debug where it's failing.\\n2. **Test Driven Development (TDD)**: Create datasets, which are collections of inputs and reference outputs, and use these to run tests on your LLM applications. You can upload test cases in bulk, create them on the fly, or export them from application traces. LangSmith also makes it easy to run custom evaluations (both LLM and heuristic-based) to score test results.\\n3. **Comparison View**: When prototyping different versions of your applications, use LangSmith's comparison view to track and diagnose regressions in test scores across multiple revisions.\\n4. **Beta Testing**: Collect more data on how your LLM applications are performing in real-world scenarios by launching them with an initial set of users. LangSmith allows you to gather human feedback on the responses produced, attach feedback scores to logged traces, and filter on traces that have a specific feedback tag and score.\\n5. **Annotation Queues**: Send runs to annotation queues, which allow annotators (e.g., PMs, engineers, or subject matter experts) to closely inspect interesting traces and annotate them with respect to different criteria.\\n6. **Adding Runs to Datasets**: As your application progresses through the beta testing phase, add runs as examples to datasets, expanding your test coverage on real-world scenarios.\\n\\nIn addition to these workflows, LangSmith also provides:\\n\\n* **Threads View**: Group traces from a single conversation together, making it easier to track the performance of your application across multiple turns.\\n* **Monitoring and A/B Testing**: Track key metrics over time using monitoring charts, which allow you to drill down into specific data points and view trace tables for that period. LangSmith also allows for tag and metadata grouping, enabling side-by-side comparisons of different versions of your applications.\\n\\nOverall, Langsmith offers a range of features and workflows designed to help you test, evaluate, and refine your LLM applications throughout the development lifecycle.\"}"
      ]
     },
     "execution_count": 19,
     "metadata": {},
     "output_type": "execute_result"
    }
   ],
   "execution_count": 19
  },
  {
   "metadata": {},
   "cell_type": "markdown",
   "source": " # Agent",
   "id": "4cdf4c1ae1a81ffa"
  },
  {
   "metadata": {
    "ExecuteTime": {
     "end_time": "2024-05-04T12:48:39.468311Z",
     "start_time": "2024-05-04T12:48:39.398390Z"
    }
   },
   "cell_type": "code",
   "source": [
    "from langchain.tools.retriever import create_retriever_tool\n",
    "\n",
    "retriever_tool = create_retriever_tool(\n",
    "   retriever,\n",
    "   \"langsmith_search\",\n",
    "   \"Search for information about LangSmith. For any questions about LangSmith, you must use this tool!\",\n",
    ")"
   ],
   "id": "9648669e7e1c9578",
   "outputs": [],
   "execution_count": 20
  },
  {
   "metadata": {},
   "cell_type": "code",
   "outputs": [],
   "execution_count": null,
   "source": "",
   "id": "ea9aed17bd80439b"
  }
 ],
 "metadata": {
  "kernelspec": {
   "display_name": "Python 3",
   "language": "python",
   "name": "python3"
  },
  "language_info": {
   "codemirror_mode": {
    "name": "ipython",
    "version": 2
   },
   "file_extension": ".py",
   "mimetype": "text/x-python",
   "name": "python",
   "nbconvert_exporter": "python",
   "pygments_lexer": "ipython2",
   "version": "2.7.6"
  }
 },
 "nbformat": 4,
 "nbformat_minor": 5
}
