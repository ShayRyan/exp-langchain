{
 "cells": [
  {
   "cell_type": "code",
   "id": "initial_id",
   "metadata": {
    "collapsed": true,
    "ExecuteTime": {
     "end_time": "2024-05-01T12:00:13.674242Z",
     "start_time": "2024-05-01T12:00:10.618033Z"
    }
   },
   "source": [
    "from langchain_community.llms import Ollama\n",
    "llm = Ollama(model=\"llama3\")"
   ],
   "outputs": [],
   "execution_count": 1
  },
  {
   "metadata": {},
   "cell_type": "markdown",
   "source": "# LLM Chain",
   "id": "5e43b98ff44aba8e"
  },
  {
   "metadata": {
    "ExecuteTime": {
     "end_time": "2024-05-01T12:10:06.816968Z",
     "start_time": "2024-05-01T12:09:53.281883Z"
    }
   },
   "cell_type": "code",
   "source": "llm.invoke(\"Did Greece land troops in Anatolia region in Turkey?\")",
   "id": "e70ba5f4079ef421",
   "outputs": [
    {
     "data": {
      "text/plain": [
       "\"A great question!\\n\\nIn ancient times, yes, the Greeks did have military presence and colonies in parts of western Asia Minor (Anatolia), which is now part of modern-day Turkey. Here are some examples:\\n\\n1. **Ionian cities**: In the 8th century BCE, Greek colonizers established city-states like Ephesus, Colophon, and Smyrna (now İzmir) on the Aegean coast of Anatolia.\\n2. **Aeolic colonies**: Around the same time, other Greek colonizers founded cities like Lesbos, Adramyttium, and Abydos in northwestern Anatolia.\\n3. **Milesian colonization**: The city-state of Miletus (in modern-day Turkey) sent out colonists to establish settlements in western Anatolia, including Ephesus and Colophon.\\n\\nThese Greek colonies in Anatolia were an important part of the Greek world, as they facilitated trade and cultural exchange with other Mediterranean civilizations. However, it's essential to note that these colonies were not necessarily established by armies or by force; rather, they were often founded through peaceful colonization efforts.\\n\\nAs for more recent events, there have been no recorded instances of Greece sending troops into Anatolia/Turkey since the ancient times I mentioned above. The two countries have had diplomatic and economic relations over the centuries, but their relationships have mostly been characterized by peaceful coexistence, trade, and cultural exchange.\\n\\nI hope this answers your question!\""
      ]
     },
     "execution_count": 4,
     "metadata": {},
     "output_type": "execute_result"
    }
   ],
   "execution_count": 4
  },
  {
   "metadata": {
    "ExecuteTime": {
     "end_time": "2024-05-01T12:58:05.802870Z",
     "start_time": "2024-05-01T12:58:05.618905Z"
    }
   },
   "cell_type": "code",
   "source": [
    "from langchain_core.prompts import ChatPromptTemplate\n",
    "prompt = ChatPromptTemplate.from_messages([\n",
    "    (\"system\", \"You are a world class technical documentation writer.\"),\n",
    "    (\"user\", \"{input}\")\n",
    "])"
   ],
   "id": "f1cef061d06f2965",
   "outputs": [],
   "execution_count": 5
  },
  {
   "metadata": {
    "ExecuteTime": {
     "end_time": "2024-05-01T15:22:00.490819Z",
     "start_time": "2024-05-01T15:22:00.469986Z"
    }
   },
   "cell_type": "code",
   "source": "chain = prompt | llm ",
   "id": "2bb654c5e9e5ec53",
   "outputs": [],
   "execution_count": 6
  },
  {
   "metadata": {
    "ExecuteTime": {
     "end_time": "2024-05-01T15:24:22.169797Z",
     "start_time": "2024-05-01T15:23:39.236044Z"
    }
   },
   "cell_type": "code",
   "source": "chain.invoke({\"input\": \"how can langsmith help with testing?\"})",
   "id": "cd57d9bead7373e7",
   "outputs": [
    {
     "data": {
      "text/plain": [
       "\"As a world-class technical documentation writer, I'm excited to share some ways Langsmith can help with testing:\\n\\n1. **Automated Testing**: Langsmith's AI-powered writing capabilities can generate test cases, test scenarios, and even test scripts! This helps ensure your software or system meets the desired functionality and performance standards.\\n\\n2. **Test Case Documentation**: When you use Langsmith to generate test cases, you'll also get high-quality documentation that explains each test scenario in detail. This makes it easy for your team to understand the testing process and ensures that everyone is on the same page.\\n\\n3. **Error Message Generation**: In the event of a failure or error, Langsmith can help generate clear and concise error messages that guide users towards a solution. This reduces user frustration and improves overall user experience.\\n\\n4. **Test Data Generation**: Langsmith's AI can also assist in generating test data, such as input values, configuration settings, and expected output results. This streamlines the testing process and helps you cover more ground with your testing efforts.\\n\\n5. **Regression Testing**: With Langsmith, you can leverage its AI capabilities to generate regression tests that ensure existing functionality still works after changes or updates are made. This helps catch any regressions quickly and efficiently.\\n\\n6. **Test Suite Expansion**: By leveraging Langsmith's language understanding capabilities, you can expand your test suite by generating new test cases based on patterns and trends in your existing tests. This ensures you're covering all the necessary scenarios and edge cases.\\n\\nIn summary, Langsmith can significantly enhance your testing efforts by providing automated testing, documentation, error message generation, test data creation, regression testing, and test suite expansion. By leveraging its AI capabilities, you'll be able to focus on higher-level tasks while ensuring the quality of your software or system.\""
      ]
     },
     "execution_count": 7,
     "metadata": {},
     "output_type": "execute_result"
    }
   ],
   "execution_count": 7
  },
  {
   "metadata": {
    "ExecuteTime": {
     "end_time": "2024-05-01T15:55:21.966139Z",
     "start_time": "2024-05-01T15:55:21.933751Z"
    }
   },
   "cell_type": "code",
   "source": [
    "from langchain_core.output_parsers import StrOutputParser\n",
    "output_parser = StrOutputParser()"
   ],
   "id": "10b2186a079f37e2",
   "outputs": [],
   "execution_count": 8
  },
  {
   "metadata": {
    "ExecuteTime": {
     "end_time": "2024-05-01T15:56:48.266706Z",
     "start_time": "2024-05-01T15:56:48.260645Z"
    }
   },
   "cell_type": "code",
   "source": "chain = prompt | llm | output_parser",
   "id": "fbc40c061bdb7382",
   "outputs": [],
   "execution_count": 9
  },
  {
   "metadata": {
    "ExecuteTime": {
     "end_time": "2024-05-02T11:15:11.491639Z",
     "start_time": "2024-05-02T11:14:39.478653Z"
    }
   },
   "cell_type": "code",
   "source": "chain.invoke({\"input\": \"how can langsmith help with testing?\"})",
   "id": "e353198a56795235",
   "outputs": [
    {
     "data": {
      "text/plain": [
       "\"What a great question!\\n\\nAs a world-class technical documentation writer, I'm delighted to share some insights on how Langsmith can assist with testing.\\n\\nLangsmith is an AI-powered writing tool that specializes in generating high-quality text based on input prompts. Here are some ways it can support your testing efforts:\\n\\n1. **Automated Testing Scripts**: Langsmith can generate test scripts in various programming languages (e.g., Python, Java) by analyzing the requirements and design documents. This helps reduce the manual effort required to create test cases.\\n2. **Test Data Generation**: Langsmith's AI capabilities enable it to generate relevant test data, such as input values, expected outputs, or error messages. This saves time and ensures that your test data is comprehensive and diverse.\\n3. **Test Case Prioritization**: By analyzing the test cases generated by Langsmith, you can prioritize them based on risk, complexity, or business value. This helps focus your testing efforts on the most critical aspects of your application or system.\\n4. **Error Message Generation**: In case of errors or failures during testing, Langsmith can generate descriptive error messages that provide valuable insights into what went wrong. This facilitates faster debugging and issue resolution.\\n5. **Test Report Writing**: After testing is complete, Langsmith can help you generate concise and informative test reports. These reports can summarize the results, highlight areas for improvement, and provide actionable recommendations.\\n\\nBy leveraging Langsmith's capabilities in these areas, you can streamline your testing process, reduce errors, and increase overall efficiency. Happy testing!\""
      ]
     },
     "execution_count": 11,
     "metadata": {},
     "output_type": "execute_result"
    }
   ],
   "execution_count": 11
  },
  {
   "metadata": {},
   "cell_type": "markdown",
   "source": "# Retrieval Chain",
   "id": "2fcd90d4a08df0d"
  },
  {
   "metadata": {
    "ExecuteTime": {
     "end_time": "2024-05-02T11:15:18.231138Z",
     "start_time": "2024-05-02T11:15:17.351600Z"
    }
   },
   "cell_type": "code",
   "source": [
    "from langchain_community.document_loaders import WebBaseLoader\n",
    "loader = WebBaseLoader(\"https://docs.smith.langchain.com/user_guide\")\n",
    "docs = loader.load()"
   ],
   "id": "6bbddbae5218554d",
   "outputs": [],
   "execution_count": 12
  },
  {
   "metadata": {
    "ExecuteTime": {
     "end_time": "2024-05-02T11:44:59.563359Z",
     "start_time": "2024-05-02T11:44:59.559567Z"
    }
   },
   "cell_type": "code",
   "source": [
    "from langchain_community.embeddings import OllamaEmbeddings\n",
    "embeddings = OllamaEmbeddings(model='llama3')"
   ],
   "id": "fbabc8a3655743ec",
   "outputs": [],
   "execution_count": 17
  },
  {
   "metadata": {
    "ExecuteTime": {
     "end_time": "2024-05-02T11:45:59.339788Z",
     "start_time": "2024-05-02T11:45:01.753668Z"
    }
   },
   "cell_type": "code",
   "source": [
    "from langchain_community.vectorstores import FAISS\n",
    "from langchain_text_splitters import RecursiveCharacterTextSplitter\n",
    "text_splitter = RecursiveCharacterTextSplitter()\n",
    "documents = text_splitter.split_documents(docs)\n",
    "vector = FAISS.from_documents(documents, embeddings)"
   ],
   "id": "8becce7476e487f",
   "outputs": [],
   "execution_count": 18
  },
  {
   "metadata": {
    "ExecuteTime": {
     "end_time": "2024-05-02T11:52:47.240879Z",
     "start_time": "2024-05-02T11:52:47.157764Z"
    }
   },
   "cell_type": "code",
   "source": [
    "from langchain.chains.combine_documents import create_stuff_documents_chain\n",
    "prompt = ChatPromptTemplate.from_template(\"\"\"Answer the following question based only on the provided context:\n",
    "<context>\n",
    "  {context}\n",
    "</context>\n",
    "Question: {input}\"\"\")\n",
    "document_chain = create_stuff_documents_chain(llm, prompt)"
   ],
   "id": "f9d5cef9db9a8012",
   "outputs": [],
   "execution_count": 19
  },
  {
   "metadata": {
    "ExecuteTime": {
     "end_time": "2024-05-02T11:56:59.827120Z",
     "start_time": "2024-05-02T11:56:42.623018Z"
    }
   },
   "cell_type": "code",
   "source": [
    "from langchain_core.documents import Document\n",
    "document_chain.invoke({\n",
    "   \"input\": \"how can langsmith help with testing?\",\n",
    "   \"context\": [Document(page_content=\"langsmith can let you visualize test results\")]\n",
    "})"
   ],
   "id": "9c89781fe63a31fe",
   "outputs": [
    {
     "data": {
      "text/plain": [
       "'Based on the provided context, Langsmith can help with testing by allowing users to \"visualize\" their test results.'"
      ]
     },
     "execution_count": 20,
     "metadata": {},
     "output_type": "execute_result"
    }
   ],
   "execution_count": 20
  },
  {
   "metadata": {
    "ExecuteTime": {
     "end_time": "2024-05-02T12:00:24.726543Z",
     "start_time": "2024-05-02T12:00:24.718286Z"
    }
   },
   "cell_type": "code",
   "source": [
    "from langchain.chains import create_retrieval_chain\n",
    "retriever = vector.as_retriever()\n",
    "retrieval_chain = create_retrieval_chain(retriever, document_chain)"
   ],
   "id": "f4f70ec831d2c390",
   "outputs": [],
   "execution_count": 21
  },
  {
   "metadata": {
    "ExecuteTime": {
     "end_time": "2024-05-02T12:04:10.641800Z",
     "start_time": "2024-05-02T12:02:52.561072Z"
    }
   },
   "cell_type": "code",
   "source": [
    "response = retrieval_chain.invoke({\"input\": \"how can langsmith help with testing?\"})\n",
    "print(response[\"answer\"])"
   ],
   "id": "6cc7621093978527",
   "outputs": [
    {
     "name": "stdout",
     "output_type": "stream",
     "text": [
      "Based on the provided context, LangSmith can help with testing in the following ways:\n",
      "\n",
      "1. **Rapid Prototyping**: LangSmith's playground environment allows for quick iteration and experimentation with different prompts and models.\n",
      "2. **Debugging**: The platform provides native rendering of chat messages, functions, and retrieve documents, making it easier to identify and root-cause issues.\n",
      "3. **Test Driven Approach**: LangSmith allows developers to create datasets, which are collections of inputs and reference outputs, and use these to run tests on their LLM applications.\n",
      "4. **Evaluation and Scoring**: The platform supports custom evaluations (both LLM and heuristic based) to score test results and track regressions across multiple revisions of the application.\n",
      "5. **Comparison View**: LangSmith's comparison view allows users to see which variant is performing better by viewing results for different configurations on the same datapoints side-by-side.\n",
      "6. **Automated Evaluations**: The platform provides online evaluations and automations, allowing users to process and score production traces in near real-time.\n",
      "\n",
      "Overall, LangSmith aims to support a test-driven approach to LLM application development, making it easier to track the performance of applications across multiple turns and identify areas for improvement.\n"
     ]
    }
   ],
   "execution_count": 22
  },
  {
   "metadata": {},
   "cell_type": "markdown",
   "source": "# Conversation Retrieval Chain",
   "id": "e923e0708f73b14e"
  },
  {
   "metadata": {},
   "cell_type": "code",
   "outputs": [],
   "execution_count": null,
   "source": "",
   "id": "8ba4e5000e4a875a"
  }
 ],
 "metadata": {
  "kernelspec": {
   "display_name": "Python 3",
   "language": "python",
   "name": "python3"
  },
  "language_info": {
   "codemirror_mode": {
    "name": "ipython",
    "version": 2
   },
   "file_extension": ".py",
   "mimetype": "text/x-python",
   "name": "python",
   "nbconvert_exporter": "python",
   "pygments_lexer": "ipython2",
   "version": "2.7.6"
  }
 },
 "nbformat": 4,
 "nbformat_minor": 5
}
